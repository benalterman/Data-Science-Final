{
  "nbformat": 4,
  "nbformat_minor": 0,
  "metadata": {
    "colab": {
      "name": "2730 Final Project",
      "provenance": [],
      "collapsed_sections": []
    },
    "kernelspec": {
      "name": "python3",
      "display_name": "Python 3"
    }
  },
  "cells": [
    {
      "cell_type": "code",
      "metadata": {
        "id": "LG6Va1O2GiGn",
        "colab_type": "code",
        "colab": {}
      },
      "source": [
        "# Benjamin Alterman and Pravina Pidikiti"
      ],
      "execution_count": 0,
      "outputs": []
    },
    {
      "cell_type": "code",
      "metadata": {
        "id": "hBRU8J2hCOXl",
        "colab_type": "code",
        "colab": {
          "base_uri": "https://localhost:8080/",
          "height": 34
        },
        "outputId": "a51f64f3-f1d1-4225-d22b-2aa897d0732d"
      },
      "source": [
        "# Basic imports\n",
        "\n",
        "%pylab inline\n",
        "import pandas as pd\n",
        "import numpy as np\n",
        "import matplotlib.pyplot as plt\n",
        "import seaborn as sns\n",
        "sns.set()"
      ],
      "execution_count": 2,
      "outputs": [
        {
          "output_type": "stream",
          "text": [
            "Populating the interactive namespace from numpy and matplotlib\n"
          ],
          "name": "stdout"
        }
      ]
    },
    {
      "cell_type": "code",
      "metadata": {
        "id": "V0BoYO00Cbmg",
        "colab_type": "code",
        "colab": {}
      },
      "source": [
        "# Dataset is Breast Cancer Wisconsin (Diagnostic) Data Set from Kaggle and UCI Machine Learning\n",
        "# https://www.kaggle.com/uciml/breast-cancer-wisconsin-data#\n",
        "\n",
        "url = 'https://raw.githubusercontent.com/benalterman/Data-Science-Final/master/data.csv'\n",
        "df = pd.read_csv(url)"
      ],
      "execution_count": 0,
      "outputs": []
    },
    {
      "cell_type": "code",
      "metadata": {
        "id": "gLn2dNUEG2Wv",
        "colab_type": "code",
        "colab": {
          "base_uri": "https://localhost:8080/",
          "height": 187
        },
        "outputId": "a61951c9-b08b-433d-9236-2996e8a608ca"
      },
      "source": [
        "# Data cleaning\n",
        "\n",
        "df.fillna(0)\n",
        "\n",
        "df.diagnosis[df.diagnosis == 'M'] = .5\n",
        "df.diagnosis[df.diagnosis == 'B'] = 0\n",
        "\n",
        "a = df.drop(['id'], axis=1)"
      ],
      "execution_count": 25,
      "outputs": [
        {
          "output_type": "stream",
          "text": [
            "/usr/local/lib/python3.6/dist-packages/ipykernel_launcher.py:4: SettingWithCopyWarning: \n",
            "A value is trying to be set on a copy of a slice from a DataFrame\n",
            "\n",
            "See the caveats in the documentation: http://pandas.pydata.org/pandas-docs/stable/user_guide/indexing.html#returning-a-view-versus-a-copy\n",
            "  after removing the cwd from sys.path.\n",
            "/usr/local/lib/python3.6/dist-packages/ipykernel_launcher.py:5: SettingWithCopyWarning: \n",
            "A value is trying to be set on a copy of a slice from a DataFrame\n",
            "\n",
            "See the caveats in the documentation: http://pandas.pydata.org/pandas-docs/stable/user_guide/indexing.html#returning-a-view-versus-a-copy\n",
            "  \"\"\"\n"
          ],
          "name": "stderr"
        }
      ]
    },
    {
      "cell_type": "code",
      "metadata": {
        "id": "6v25k0a8Dr0B",
        "colab_type": "code",
        "colab": {
          "base_uri": "https://localhost:8080/",
          "height": 136
        },
        "outputId": "72b0c39b-fff4-49db-ef40-a849642fe914"
      },
      "source": [
        "# Convert pandas dataframe to numpy array\n",
        "data = a.to_numpy()\n",
        "data1 = data[:, :30]\n",
        "data1"
      ],
      "execution_count": 26,
      "outputs": [
        {
          "output_type": "execute_result",
          "data": {
            "text/plain": [
              "array([[0.5, 17.99, 10.38, ..., 0.7119, 0.2654, 0.4601],\n",
              "       [0.5, 20.57, 17.77, ..., 0.2416, 0.18600000000000003, 0.275],\n",
              "       [0.5, 19.69, 21.25, ..., 0.4504, 0.243, 0.3613],\n",
              "       ...,\n",
              "       [0.5, 16.6, 28.08, ..., 0.3403, 0.1418, 0.2218],\n",
              "       [0.5, 20.6, 29.33, ..., 0.9387, 0.265, 0.4087],\n",
              "       [0, 7.76, 24.54, ..., 0.0, 0.0, 0.2871]], dtype=object)"
            ]
          },
          "metadata": {
            "tags": []
          },
          "execution_count": 26
        }
      ]
    },
    {
      "cell_type": "code",
      "metadata": {
        "id": "ZwoVwaLRGNZ_",
        "colab_type": "code",
        "colab": {}
      },
      "source": [
        "# Prepare variabels for analysis\n",
        "\n",
        "diag = data1[:, 0]\n",
        "radius_mean = data1[:, 1]\n",
        "texture_mean = data[:, 2]\n",
        "perimeter_mean = data1[:, 3]\n",
        "area_mean = data1[:, 4]\n",
        "smoothness_mean = data1[:, 5]"
      ],
      "execution_count": 0,
      "outputs": []
    },
    {
      "cell_type": "code",
      "metadata": {
        "id": "C8MWpUloGYwW",
        "colab_type": "code",
        "colab": {}
      },
      "source": [
        "# Import Sklearn\n",
        "\n",
        "from sklearn.linear_model import LinearRegression"
      ],
      "execution_count": 0,
      "outputs": []
    },
    {
      "cell_type": "code",
      "metadata": {
        "id": "t-oHxMJqGVVp",
        "colab_type": "code",
        "colab": {
          "base_uri": "https://localhost:8080/",
          "height": 319
        },
        "outputId": "e7591813-323f-4cc6-9fe6-e35ee435a113"
      },
      "source": [
        "# Radius Mean Graph\n",
        "\n",
        "model = LinearRegression(fit_intercept=True)\n",
        "model.fit(radius_mean[:, None], diag)\n",
        "\n",
        "yp = model.predict(radius_mean[:, None])\n",
        "print('mse =', np.mean((yp-diag)**2))\n",
        "\n",
        "scatter(radius_mean, diag)\n",
        "xfit = np.linspace(0, 30)\n",
        "yfit = model.predict(xfit[:, None])\n",
        "plot(xfit, yfit, 'r')\n",
        "plt.xlabel('Radius Mean')\n",
        "plt.ylabel('Diagnosis')"
      ],
      "execution_count": 18,
      "outputs": [
        {
          "output_type": "stream",
          "text": [
            "mse = 0.027295478663477157\n"
          ],
          "name": "stdout"
        },
        {
          "output_type": "execute_result",
          "data": {
            "text/plain": [
              "Text(0, 0.5, 'Diagnosis')"
            ]
          },
          "metadata": {
            "tags": []
          },
          "execution_count": 18
        },
        {
          "output_type": "display_data",
          "data": {
            "image/png": "[encoded data removed]",
            "text/plain": [
              "<Figure size 432x288 with 1 Axes>"
            ]
          },
          "metadata": {
            "tags": []
          }
        }
      ]
    },
    {
      "cell_type": "code",
      "metadata": {
        "id": "jDSGgGy7GIGl",
        "colab_type": "code",
        "colab": {
          "base_uri": "https://localhost:8080/",
          "height": 319
        },
        "outputId": "ff5f33d0-e82f-4df3-b2bd-b66fd0fce871"
      },
      "source": [
        "# Texture Mean Graph\n",
        "model = LinearRegression(fit_intercept=True)\n",
        "model.fit(texture_mean[:, None], diag)\n",
        "\n",
        "yp = model.predict(radius_mean[:, None])\n",
        "print('mse =', np.mean((yp-diag)**2))\n",
        "\n",
        "scatter(radius_mean, diag)\n",
        "xfit = np.linspace(0, 40)\n",
        "yfit = model.predict(xfit[:, None])\n",
        "plot(xfit, yfit, 'r')\n",
        "plt.xlabel('Texture Mean')\n",
        "plt.ylabel('Diagnosis')"
      ],
      "execution_count": 19,
      "outputs": [
        {
          "output_type": "stream",
          "text": [
            "mse = 0.05071584085645591\n"
          ],
          "name": "stdout"
        },
        {
          "output_type": "execute_result",
          "data": {
            "text/plain": [
              "Text(0, 0.5, 'Diagnosis')"
            ]
          },
          "metadata": {
            "tags": []
          },
          "execution_count": 19
        },
        {
          "output_type": "display_data",
          "data": {
            "image/png": "[encoded data removed]",
            "text/plain": [
              "<Figure size 432x288 with 1 Axes>"
            ]
          },
          "metadata": {
            "tags": []
          }
        }
      ]
    },
    {
      "cell_type": "code",
      "metadata": {
        "id": "ldf1wspdIf8C",
        "colab_type": "code",
        "colab": {
          "base_uri": "https://localhost:8080/",
          "height": 319
        },
        "outputId": "459bce3f-2b0f-4f60-9f37-ef789cd437c2"
      },
      "source": [
        "# Perimeter Mean Graph\n",
        "model = LinearRegression(fit_intercept=True)\n",
        "model.fit(perimeter_mean[:, None], diag)\n",
        "\n",
        "yp = model.predict(radius_mean[:, None])\n",
        "print('mse =', np.mean((yp-diag)**2))\n",
        "\n",
        "scatter(radius_mean, diag)\n",
        "xfit = np.linspace(0, 100)\n",
        "yfit = model.predict(xfit[:, None])\n",
        "plot(xfit, yfit, 'r')\n",
        "plt.xlabel('Perimeter Mean')\n",
        "plt.ylabel('Diagnosis')"
      ],
      "execution_count": 20,
      "outputs": [
        {
          "output_type": "stream",
          "text": [
            "mse = 0.38127675508736364\n"
          ],
          "name": "stdout"
        },
        {
          "output_type": "execute_result",
          "data": {
            "text/plain": [
              "Text(0, 0.5, 'Diagnosis')"
            ]
          },
          "metadata": {
            "tags": []
          },
          "execution_count": 20
        },
        {
          "output_type": "display_data",
          "data": {
            "image/png": "[encoded data removed]",
            "text/plain": [
              "<Figure size 432x288 with 1 Axes>"
            ]
          },
          "metadata": {
            "tags": []
          }
        }
      ]
    },
    {
      "cell_type": "code",
      "metadata": {
        "id": "4x0vtvG6JCJJ",
        "colab_type": "code",
        "colab": {
          "base_uri": "https://localhost:8080/",
          "height": 319
        },
        "outputId": "607c7f9e-475d-4bc8-8fc8-32f1a0c9553c"
      },
      "source": [
        "# Area Mean Graph\n",
        "model = LinearRegression(fit_intercept=True)\n",
        "model.fit(area_mean[:, None], diag)\n",
        "\n",
        "yp = model.predict(radius_mean[:, None])\n",
        "print('mse =', np.mean((yp-diag)**2))\n",
        "\n",
        "scatter(area_mean, diag)\n",
        "xfit = np.linspace(0, 1500)\n",
        "yfit = model.predict(xfit[:, None])\n",
        "plot(xfit, yfit, 'r')\n",
        "plt.xlabel('Area Mean')\n",
        "plt.ylabel('Diagnosis')"
      ],
      "execution_count": 21,
      "outputs": [
        {
          "output_type": "stream",
          "text": [
            "mse = 0.15539934330259977\n"
          ],
          "name": "stdout"
        },
        {
          "output_type": "execute_result",
          "data": {
            "text/plain": [
              "Text(0, 0.5, 'Diagnosis')"
            ]
          },
          "metadata": {
            "tags": []
          },
          "execution_count": 21
        },
        {
          "output_type": "display_data",
          "data": {
            "image/png": "[encoded data removed]",
            "text/plain": [
              "<Figure size 432x288 with 1 Axes>"
            ]
          },
          "metadata": {
            "tags": []
          }
        }
      ]
    },
    {
      "cell_type": "code",
      "metadata": {
        "id": "lhU6Vn7TJCQ0",
        "colab_type": "code",
        "colab": {
          "base_uri": "https://localhost:8080/",
          "height": 319
        },
        "outputId": "b43445c7-e194-4be7-d246-ab4de64ab652"
      },
      "source": [
        "# Smoothness Mean Graph\n",
        "model = LinearRegression(fit_intercept=True)\n",
        "model.fit(smoothness_mean[:, None], diag)\n",
        "\n",
        "yp = model.predict(radius_mean[:, None])\n",
        "print('mse =', np.mean((yp-diag)**2))\n",
        "\n",
        "scatter(radius_mean, diag)\n",
        "xfit = np.linspace(0, .2)\n",
        "yfit = model.predict(xfit[:, None])\n",
        "plot(xfit, yfit, 'r')\n",
        "plt.xlabel('Smoothness Mean')\n",
        "plt.ylabel('Diagnosis')"
      ],
      "execution_count": 22,
      "outputs": [
        {
          "output_type": "stream",
          "text": [
            "mse = 7955.383595647786\n"
          ],
          "name": "stdout"
        },
        {
          "output_type": "execute_result",
          "data": {
            "text/plain": [
              "Text(0, 0.5, 'Diagnosis')"
            ]
          },
          "metadata": {
            "tags": []
          },
          "execution_count": 22
        },
        {
          "output_type": "display_data",
          "data": {
            "image/png": "[encoded data removed]",
            "text/plain": [
              "<Figure size 432x288 with 1 Axes>"
            ]
          },
          "metadata": {
            "tags": []
          }
        }
      ]
    },
    {
      "cell_type": "code",
      "metadata": {
        "id": "KIz9x2XjKhxl",
        "colab_type": "code",
        "colab": {
          "base_uri": "https://localhost:8080/",
          "height": 34
        },
        "outputId": "4ddc6ee3-d015-4627-e1b0-9f931b62afe7"
      },
      "source": [
        "# Predict Diagnosis from all variables\n",
        "\n",
        "data2 = data1\n",
        "\n",
        "x = data2[:, 1:30]\n",
        "y = data2[:, 0]\n",
        "\n",
        "\n",
        "model2 = LinearRegression(fit_intercept=True)\n",
        "model2.fit(x, y)\n",
        "yp = model2.predict(x)\n",
        "print('mse =', np.mean((yp-y)**2))"
      ],
      "execution_count": 30,
      "outputs": [
        {
          "output_type": "stream",
          "text": [
            "mse = 0.013268685876730154\n"
          ],
          "name": "stdout"
        }
      ]
    },
    {
      "cell_type": "code",
      "metadata": {
        "id": "-XFouzp6MRBI",
        "colab_type": "code",
        "colab": {}
      },
      "source": [
        ""
      ],
      "execution_count": 0,
      "outputs": []
    }
  ]
}